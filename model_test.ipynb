{
 "cells": [
  {
   "cell_type": "code",
   "execution_count": 1,
   "metadata": {},
   "outputs": [],
   "source": [
    "from CRR.model import model\n",
    "import pandas as pd"
   ]
  },
  {
   "cell_type": "code",
   "execution_count": 2,
   "metadata": {},
   "outputs": [],
   "source": [
    "customer = pd.read_csv(\"Customer.csv\")\n",
    "order = pd.read_csv(\"Order.csv\")\n",
    "product = pd.read_csv(\"Product.csv\")"
   ]
  },
  {
   "cell_type": "code",
   "execution_count": 3,
   "metadata": {},
   "outputs": [],
   "source": [
    "RFM = model.get_rfm(customer, product, order)"
   ]
  },
  {
   "cell_type": "code",
   "execution_count": 4,
   "metadata": {},
   "outputs": [
    {
     "name": "stdout",
     "output_type": "stream",
     "text": [
      "Cluster Summary for 3 Clusters:\n",
      "        Recency Frequency Monetary      \n",
      "           mean      mean     mean count\n",
      "Cluster                                 \n",
      "0         23.50      3.41  2553.67   316\n",
      "1         23.48      6.29  9286.03   124\n",
      "2        190.41      2.92  4878.88    49\n",
      "\n",
      "\n",
      "Cluster Summary for 4 Clusters:\n",
      "        Recency Frequency  Monetary      \n",
      "           mean      mean      mean count\n",
      "Cluster                                  \n",
      "0         17.14      4.99   3077.59   198\n",
      "1         29.15      6.06  12405.20    78\n",
      "2         31.31      2.42   2402.45   170\n",
      "3        201.77      2.93   4932.73    43\n",
      "\n",
      "\n",
      "Cluster Summary for 5 Clusters:\n",
      "        Recency Frequency  Monetary      \n",
      "           mean      mean      mean count\n",
      "Cluster                                  \n",
      "0         17.83      4.12   3696.94   182\n",
      "1         32.71      5.56  14205.67    52\n",
      "2         33.60      2.27   1517.00   135\n",
      "3        195.67      2.98   5017.07    46\n",
      "4         15.99      6.99   4734.79    74\n",
      "\n",
      "\n",
      "Cluster Summary for 6 Clusters:\n",
      "        Recency Frequency  Monetary      \n",
      "           mean      mean      mean count\n",
      "Cluster                                  \n",
      "0         14.11      4.01   2453.82   175\n",
      "1         24.78      7.16  15831.11    32\n",
      "2         40.38      2.06   1396.83   102\n",
      "3        201.77      2.93   4932.73    43\n",
      "4         15.78      6.78   4253.80    69\n",
      "5         37.06      3.91   9020.34    68\n",
      "\n",
      "\n"
     ]
    }
   ],
   "source": [
    "Clusters = model.get_clusters(RFM)"
   ]
  },
  {
   "cell_type": "code",
   "execution_count": 6,
   "metadata": {},
   "outputs": [
    {
     "name": "stderr",
     "output_type": "stream",
     "text": [
      "/Users/areghovakimyan/Desktop/CRR/CRR/model/model.py:85: SettingWithCopyWarning: \n",
      "A value is trying to be set on a copy of a slice from a DataFrame.\n",
      "Try using .loc[row_indexer,col_indexer] = value instead\n",
      "\n",
      "See the caveats in the documentation: https://pandas.pydata.org/pandas-docs/stable/user_guide/indexing.html#returning-a-view-versus-a-copy\n",
      "  rfm_table['ChurnRiskLevel'] = np.select(conditions, values, default=default_value)\n"
     ]
    }
   ],
   "source": [
    "churn_risk = model.classify_churn_risk(Clusters)"
   ]
  },
  {
   "cell_type": "code",
   "execution_count": 9,
   "metadata": {},
   "outputs": [],
   "source": [
    "churn_risk.to_csv(\"Modeling.csv\")"
   ]
  },
  {
   "cell_type": "code",
   "execution_count": 12,
   "metadata": {},
   "outputs": [],
   "source": [
    "ChurnRate = model.churn_rate_by_risk_level(churn_risk)"
   ]
  },
  {
   "cell_type": "code",
   "execution_count": 13,
   "metadata": {},
   "outputs": [],
   "source": [
    "ChurnRate.to_csv(\"ChurnRate.csv\")"
   ]
  },
  {
   "cell_type": "code",
   "execution_count": null,
   "metadata": {},
   "outputs": [],
   "source": []
  }
 ],
 "metadata": {
  "kernelspec": {
   "display_name": "base",
   "language": "python",
   "name": "python3"
  },
  "language_info": {
   "codemirror_mode": {
    "name": "ipython",
    "version": 3
   },
   "file_extension": ".py",
   "mimetype": "text/x-python",
   "name": "python",
   "nbconvert_exporter": "python",
   "pygments_lexer": "ipython3",
   "version": "3.10.10"
  }
 },
 "nbformat": 4,
 "nbformat_minor": 2
}
