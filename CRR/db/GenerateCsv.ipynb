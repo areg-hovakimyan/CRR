{
 "cells": [
  {
   "cell_type": "code",
   "execution_count": 7,
   "metadata": {},
   "outputs": [],
   "source": [
    "from data_generator import generate_customer,generate_product,generate_order"
   ]
  },
  {
   "cell_type": "code",
   "execution_count": 1,
   "metadata": {},
   "outputs": [],
   "source": [
    "import pandas as pd\n",
    "import numpy as np"
   ]
  },
  {
   "cell_type": "code",
   "execution_count": 17,
   "metadata": {},
   "outputs": [],
   "source": [
    "num_customers = 100\n",
    "customers = [generate_customer(i) for i in range(1, num_customers + 1)]\n",
    "customer_df = pd.DataFrame(customers)\n",
    "customer_df.to_csv(\"Customer.csv\", index=False)"
   ]
  },
  {
   "cell_type": "code",
   "execution_count": 18,
   "metadata": {},
   "outputs": [],
   "source": [
    "num_products = 20\n",
    "products = [generate_product(i) for i in range(1, num_products + 1)]\n",
    "product_df = pd.DataFrame(products)\n",
    "product_df.to_csv(\"Product.csv\", index=False)\n"
   ]
  },
  {
   "cell_type": "code",
   "execution_count": 19,
   "metadata": {},
   "outputs": [],
   "source": [
    "num_orders = 300\n",
    "orders = [generate_order(i, range(1, num_customers + 1), range(1, num_products + 1)) for i in range(1, num_orders + 1)]\n",
    "order_df = pd.DataFrame(orders)\n",
    "order_df.to_csv(\"Order.csv\", index=False)\n"
   ]
  }
 ],
 "metadata": {
  "kernelspec": {
   "display_name": "Python 3",
   "language": "python",
   "name": "python3"
  },
  "language_info": {
   "codemirror_mode": {
    "name": "ipython",
    "version": 3
   },
   "file_extension": ".py",
   "mimetype": "text/x-python",
   "name": "python",
   "nbconvert_exporter": "python",
   "pygments_lexer": "ipython3",
   "version": "3.10.10"
  }
 },
 "nbformat": 4,
 "nbformat_minor": 4
}
